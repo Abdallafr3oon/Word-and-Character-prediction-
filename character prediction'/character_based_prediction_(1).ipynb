{
  "nbformat": 4,
  "nbformat_minor": 0,
  "metadata": {
    "colab": {
      "provenance": [],
      "gpuType": "V28"
    },
    "kernelspec": {
      "name": "python3",
      "display_name": "Python 3"
    },
    "language_info": {
      "name": "python"
    },
    "accelerator": "TPU"
  },
  "cells": [
    {
      "cell_type": "code",
      "execution_count": 1,
      "metadata": {
        "colab": {
          "base_uri": "https://localhost:8080/"
        },
        "id": "M0wfYG2viKFU",
        "outputId": "bf4d5066-f672-4a44-9407-85471b487736"
      },
      "outputs": [
        {
          "output_type": "stream",
          "name": "stdout",
          "text": [
            "Collecting wikipedia\n",
            "  Downloading wikipedia-1.4.0.tar.gz (27 kB)\n",
            "  Preparing metadata (setup.py) ... \u001b[?25l\u001b[?25hdone\n",
            "Requirement already satisfied: beautifulsoup4 in /usr/local/lib/python3.10/dist-packages (from wikipedia) (4.12.3)\n",
            "Requirement already satisfied: requests<3.0.0,>=2.0.0 in /usr/local/lib/python3.10/dist-packages (from wikipedia) (2.31.0)\n",
            "Requirement already satisfied: charset-normalizer<4,>=2 in /usr/local/lib/python3.10/dist-packages (from requests<3.0.0,>=2.0.0->wikipedia) (3.3.2)\n",
            "Requirement already satisfied: idna<4,>=2.5 in /usr/local/lib/python3.10/dist-packages (from requests<3.0.0,>=2.0.0->wikipedia) (3.7)\n",
            "Requirement already satisfied: urllib3<3,>=1.21.1 in /usr/local/lib/python3.10/dist-packages (from requests<3.0.0,>=2.0.0->wikipedia) (2.0.7)\n",
            "Requirement already satisfied: certifi>=2017.4.17 in /usr/local/lib/python3.10/dist-packages (from requests<3.0.0,>=2.0.0->wikipedia) (2024.2.2)\n",
            "Requirement already satisfied: soupsieve>1.2 in /usr/local/lib/python3.10/dist-packages (from beautifulsoup4->wikipedia) (2.5)\n",
            "Building wheels for collected packages: wikipedia\n",
            "  Building wheel for wikipedia (setup.py) ... \u001b[?25l\u001b[?25hdone\n",
            "  Created wheel for wikipedia: filename=wikipedia-1.4.0-py3-none-any.whl size=11680 sha256=fa4a100af2411e02398070d24ca8f8e7fe0ddf0ee6a918af3bd0131ae685e2b6\n",
            "  Stored in directory: /root/.cache/pip/wheels/5e/b6/c5/93f3dec388ae76edc830cb42901bb0232504dfc0df02fc50de\n",
            "Successfully built wikipedia\n",
            "Installing collected packages: wikipedia\n",
            "Successfully installed wikipedia-1.4.0\n"
          ]
        }
      ],
      "source": [
        "pip install wikipedia\n"
      ]
    },
    {
      "cell_type": "code",
      "source": [
        "import numpy as np\n",
        "import pandas as pd\n",
        "import os\n",
        "import nltk\n",
        "from nltk.tokenize import word_tokenize\n",
        "from nltk.corpus import stopwords\n",
        "from nltk.stem import WordNetLemmatizer\n",
        "import re\n",
        "from gensim.models import FastText\n",
        "import spacy\n",
        "import re\n",
        "from tensorflow.keras.preprocessing.sequence import pad_sequences\n",
        "from tensorflow.keras.models import Sequential\n",
        "from tensorflow.keras.layers import LSTM, Dense\n",
        "import wikipedia\n",
        "from tensorflow.keras.models import Sequential\n",
        "from tensorflow.keras.layers import SimpleRNN, Dense\n",
        "import tensorflow as tf\n",
        "from keras.models import Sequential\n",
        "from keras.layers import LSTM, Dense\n",
        "from keras.optimizers import Adam"
      ],
      "metadata": {
        "id": "x6wb-Jq1iRuz"
      },
      "execution_count": 7,
      "outputs": []
    },
    {
      "cell_type": "code",
      "source": [
        "search_results = wikipedia.search(\"football\")\n",
        "search_results = search_results[:8]\n",
        "doc_content = []\n",
        "max_content_length = 3000\n",
        "\n",
        "for title in search_results[:4]:\n",
        "    page_object = wikipedia.page(title)\n",
        "    con = page_object.content[:max_content_length]\n",
        "    doc_content.append(con)\n",
        "\n",
        "    # Extract and print the content of the current page\n",
        "    # print(\"Title:\", page_object.title)\n",
        "    # print(\"Content:\", con)\n",
        "    # print(\"\\n---\\n\")\n",
        "\n",
        "# Combine the content from all pages\n",
        "text = \" \".join(doc_content)\n",
        "\n",
        "\n"
      ],
      "metadata": {
        "id": "QVO3-ZNFjyTC"
      },
      "execution_count": 3,
      "outputs": []
    },
    {
      "cell_type": "code",
      "source": [
        "def clean_text(text):\n",
        "    # Remove special characters and digits\n",
        "    text = re.sub(r'[^a-zA-Z\\s]', '', text)\n",
        "    # Convert text to lowercase\n",
        "    text = text.lower()\n",
        "    # Remove extra whitespace\n",
        "    text = re.sub(r'\\s+', ' ', text).strip()\n",
        "    return text\n",
        "\n",
        "# Clean the combined text\n",
        "cleaned_text = clean_text(text)\n",
        "print(cleaned_text)"
      ],
      "metadata": {
        "colab": {
          "base_uri": "https://localhost:8080/"
        },
        "id": "t0I6ONNij4V0",
        "outputId": "4d9c957f-7b00-4b63-c4c8-f5894f7bdfac"
      },
      "execution_count": 4,
      "outputs": [
        {
          "output_type": "stream",
          "name": "stdout",
          "text": [
            "football is a family of team sports that involve to varying degrees kicking a ball to score a goal unqualified the word football normally means the form of football that is the most popular where the word is used sports commonly called football include association football known as soccer in australia canada south africa the united states and sometimes in ireland and new zealand australian rules football gaelic football gridiron football specifically american football arena football or canadian football international rules football rugby league football and rugby union football these various forms of football share to varying degrees common origins and are known as football codes there are a number of references to traditional ancient or prehistoric ball games played in many different parts of the world contemporary codes of football can be traced back to the codification of these games at english public schools during the th century itself an outgrowth of medieval football the expansion and cultural power of the british empire allowed these rules of football to spread to areas of british influence outside the directly controlled empire by the end of the th century distinct regional codes were already developing gaelic football for example deliberately incorporated the rules of local traditional football games in order to maintain their heritage in the football league was founded in england becoming the first of many professional football associations during the th century several of the various kinds of football grew to become some of the most popular team sports in the world common elements the various codes of football share certain common elements and can be grouped into two main classes of football carrying codes like american football canadian football australian football rugby union and rugby league where the ball is moved about the field while being held in the hands or thrown and kicking codes such as association football and gaelic football where the ball is moved primarily with the feet and where handling is strictly limited common rules among the sports include two teams usually have between and players some variations that have fewer players five or more per team are also popular a clearly defined area in which to play the game scoring goals or points by moving the ball to an opposing teams end of the field and either into a goal area or over a line goals or points resulting from players putting the ball between two goalposts the goal or line being defended by the opposing team players using only their body to move the ball ie no additional equipment such as bats or sticks in all codes common skills include passing tackling evasion of tackles catching and kicking in most codes there are rules restricting the movement of players offside and players scoring a goal must put the ball either under or over a crossbar between the goalposts college football is gridiron football that is played by teams of amateur studentathletes at universities and colleges it was through collegiate competition that gridiron football first gained popularity in the united states like gridiron football generally college football is most popular in the united states and canada while no single governing body exists for college football in the united states most schools especially those at the highest levels of play are members of the ncaa in canada collegiate football competition is governed by u sports for universities the canadian collegiate athletic association for colleges governs soccer and other sports but not gridiron football other countries such as mexico japan and south korea also host college football leagues with modest levels of support unlike most other major sports in north america no official minor league farm organizations exist for american football or canadian football therefore college football is generally considered to be the second tier of american and canadian football ahead of high school competition but below professional competition in some parts of the united states especially the south and midwest college football is more popular than professional football for much of the th century college football was generally considered to be more prestigious than professional football as the second highest tier of gridiron football competition in the united states many college football players later play professionally in the nfl or other leagues the nfl draft each spring sees players selected and offered a contract to play in the league with the vast majority coming from the ncaa other professional leagues such as the cfl and xfl additionally hold their own drafts each year which see many college players selected players who are not selected can still attempt to obtain a professional roster spot as an undrafted free agent despite these opportunities only around of ncaa college football players end up playing professionally in the nfl history even after the emergence of the professional national football league nfl college football has remained extremely popular throughout the us although the college game has a much larger margin for talent than its pro counterpart the sheer number of fans following major colleges provides a financial equalizer for the game with division i programs the highest level playing in huge stadiums six of which have seating capacity exceeding people in many cases college stadiums employ benchstyle seating as opposed to individual seats with backs and arm rests although many stadiums do have a small number of chair back seats in addition to the bench seating this allows them to seat more fans in a given amount of space than the typical professional stadium which tends to have more features and comforts for fans only three stadiums owned by us colleges or universities ln st australian rules football also called australian football or aussie rules or more simply football or footy is a contact sport played between two teams of players on an oval field often a modified cricket ground points are scored by kicking the oval ball between the central goal posts worth six points or between a central and outer post worth one point otherwise known as a behind during general play players may position themselves anywhere on the field and use any part of their bodies to move the ball the primary methods are kicking handballing and running with the ball there are rules on how the ball can be handled for example players running with the ball must intermittently bounce or touch it on the ground throwing the ball is not allowed and players must not get caught holding the ball a distinctive feature of the game is the mark where players anywhere on the field who catch the ball from a kick with specific conditions are awarded unimpeded possession possession of the ball is in dispute at all times except when a free kick or mark is paid players can tackle using their hands or use their whole body to obstruct opponents dangerous physical contact such as pushing an opponent in the back interference when marking and deliberately slowing the play are discouraged with free kicks distance penalties or suspension for a certain number of matches depending on the severity of the infringement the game features frequent physical contests spectacular marking fast movement of both players and the ball and high scoring the sports origins can be traced to football matches played in melbourne victoria in inspired by english public school football games seeking to develop a game more suited to adults and australian conditions the melbourne football club published the first laws of australian football in may australian football has the highest spectator attendance and television viewership of all sports in australia while the australian football league afl the sports only fully professional competition is the nations wealthiest sporting body the afl grand final held annually at the melbourne cricket ground is the secondhighestattended club championship event in the world the sport is also played at amateur level in many countries and in several variations its rules are governed by the afl commission with the advice of the afls laws of the game committee name australian rules football is known by several nicknames including aussie rules football and footy in some regions where other codes of football are more popular the sport is usually called afl after the australian football league while the league itself also uses this name for local competitions in some areas history origins primitive forms of football were played sporadically in the australian colonies in the first half of the th century compared to cricket and horse racing football was c american football referred to simply as football in the united states and canada also known as gridiron football is a team sport played by two teams of eleven players on a rectangular field with goalposts at each end the offense the team with possession of the ovalshaped football attempts to advance down the field by running with the ball or throwing it while the defense the team without possession of the ball aims to stop the offenses advance and to take control of the ball for themselves the offense must advance at least ten yards in four downs or plays if they fail they turn over the football to the defense but if they succeed they are given a new set of four downs to continue the drive a game is won by the team with the higher number of points which are scored primarily by advancing the ball into the opposing teams end zone for a touchdown or kicking the ball through the opponents goalposts for a field goal american football evolved in the united states originating from the sports of soccer and rugby the first american football match was played on november between two college teams rutgers and princeton using rules based on the rules of soccer at the time a set of rule changes drawn up from onward by walter camp the father of american football established the snap the line of scrimmage elevenplayer teams and the concept of downs later rule changes legalized the forward pass created the neutral zone and specified the size and shape of the football the sport is closely related to canadian football which evolved in parallel with and at the same time as the american game although its rules were developed independently from those of camp most of the features that distinguish american football from rugby and soccer are also present in canadian football the two sports are considered the primary variants of gridiron football american football is the most popular sport in the united states in terms of broadcast viewership audience the most popular forms of the game are professional and college football with the other major levels being highschool and youth football as of nearly million highschool athletes play the sport in the us with another college athletes in the ncaa and the naia the national football league nfl has the highest average attendance of any professional sports league in the world its championship game the super bowl ranks among the mostwatched club sporting events globally in the league had an annual revenue of around billion making it the most valuable sports league in the world other professional and amateur leagues exist worldwide but the sport does not have the international popularity of other american sports like baseball or basketball the sport maintains a growing following in the rest of north america europe brazil and japan etymology and names in the united states american football is referred to as footb\n"
          ]
        }
      ]
    },
    {
      "cell_type": "code",
      "source": [
        "#character mappings\n",
        "chars = sorted(list(set(cleaned_text)))\n",
        "char_to_int = dict((c, i) for i, c in enumerate(chars))\n",
        "int_to_char = dict((i, c) for i, c in enumerate(chars))\n"
      ],
      "metadata": {
        "id": "5fWHJA4Pv-hA"
      },
      "execution_count": 5,
      "outputs": []
    },
    {
      "cell_type": "code",
      "source": [
        "# Create one-hot encoded sequences\n",
        "max_length = len(cleaned_text)\n",
        "num_chars = len(chars)\n",
        "\n",
        "X = []\n",
        "y = []\n",
        "\n",
        "seq_length = 20\n",
        "\n",
        "for i in range(0, max_length - seq_length, 1):\n",
        "    seq_in = cleaned_text[i:i + seq_length]\n",
        "    seq_out = cleaned_text[i + seq_length]\n",
        "    X.append([char_to_int[char] for char in seq_in])\n",
        "    y.append(char_to_int[seq_out])\n",
        "\n",
        "# Reshape X to be [samples(#samples), time steps(seq_length), features(#unique char)]\n",
        "X_modified = np.reshape(X, (len(X), seq_length, 1))\n",
        "\n",
        "# normalize\n",
        "X_modified = X_modified / float(num_chars)\n",
        "\n",
        "# one-hot encode the output variable\n",
        "ys = tf.keras.utils.to_categorical(y, num_classes=num_chars)\n",
        "\n"
      ],
      "metadata": {
        "id": "mo92_YuBj8T2"
      },
      "execution_count": 6,
      "outputs": []
    },
    {
      "cell_type": "markdown",
      "source": [
        "#using LSTM model"
      ],
      "metadata": {
        "id": "MNVKEfyIPbAk"
      }
    },
    {
      "cell_type": "code",
      "source": [
        "\n",
        "\n",
        "# Define the model\n",
        "model = Sequential()\n",
        "\n",
        "model.add(LSTM(256, input_shape=(X_modified.shape[1], X_modified.shape[2]), return_sequences=True))\n",
        "model.add(LSTM(128))\n",
        "model.add(Dense(ys.shape[1], activation='softmax'))\n",
        "\n",
        "# Compile the model\n",
        "opt = Adam(lr=0.001)\n",
        "model.compile(loss='categorical_crossentropy', optimizer=opt)\n",
        "\n",
        "print(model.summary())\n",
        "\n"
      ],
      "metadata": {
        "colab": {
          "base_uri": "https://localhost:8080/"
        },
        "id": "kIg2cfQxj_AZ",
        "outputId": "eb12ab86-ac11-4af2-d14c-05d1dd612be7"
      },
      "execution_count": null,
      "outputs": [
        {
          "output_type": "stream",
          "name": "stderr",
          "text": [
            "WARNING:absl:`lr` is deprecated in Keras optimizer, please use `learning_rate` or use the legacy optimizer, e.g.,tf.keras.optimizers.legacy.Adam.\n"
          ]
        },
        {
          "output_type": "stream",
          "name": "stdout",
          "text": [
            "Model: \"sequential_2\"\n",
            "_________________________________________________________________\n",
            " Layer (type)                Output Shape              Param #   \n",
            "=================================================================\n",
            " lstm_2 (LSTM)               (None, 20, 256)           264192    \n",
            "                                                                 \n",
            " lstm_3 (LSTM)               (None, 128)               197120    \n",
            "                                                                 \n",
            " dense_1 (Dense)             (None, 27)                3483      \n",
            "                                                                 \n",
            "=================================================================\n",
            "Total params: 464795 (1.77 MB)\n",
            "Trainable params: 464795 (1.77 MB)\n",
            "Non-trainable params: 0 (0.00 Byte)\n",
            "_________________________________________________________________\n",
            "None\n"
          ]
        }
      ]
    },
    {
      "cell_type": "markdown",
      "source": [],
      "metadata": {
        "id": "slpwJIDyPZ2s"
      }
    },
    {
      "cell_type": "code",
      "source": [
        "# Train the model\n",
        "model.fit(X_modified, ys, epochs=40, batch_size=128)\n"
      ],
      "metadata": {
        "colab": {
          "base_uri": "https://localhost:8080/"
        },
        "id": "btURcVZJknEY",
        "outputId": "bb2a54a9-421f-49dc-e34a-b3162583262b"
      },
      "execution_count": null,
      "outputs": [
        {
          "output_type": "stream",
          "name": "stdout",
          "text": [
            "Epoch 1/40\n",
            "91/91 [==============================] - 25s 223ms/step - loss: 2.9042\n",
            "Epoch 2/40\n",
            "91/91 [==============================] - 21s 236ms/step - loss: 2.8654\n",
            "Epoch 3/40\n",
            "91/91 [==============================] - 21s 226ms/step - loss: 2.8644\n",
            "Epoch 4/40\n",
            "91/91 [==============================] - 21s 229ms/step - loss: 2.8569\n",
            "Epoch 5/40\n",
            "91/91 [==============================] - 22s 238ms/step - loss: 2.8323\n",
            "Epoch 6/40\n",
            "91/91 [==============================] - 20s 221ms/step - loss: 2.8146\n",
            "Epoch 7/40\n",
            "91/91 [==============================] - 22s 241ms/step - loss: 2.7840\n",
            "Epoch 8/40\n",
            "91/91 [==============================] - 20s 221ms/step - loss: 2.7410\n",
            "Epoch 9/40\n",
            "91/91 [==============================] - 22s 242ms/step - loss: 2.6846\n",
            "Epoch 10/40\n",
            "91/91 [==============================] - 22s 245ms/step - loss: 2.6232\n",
            "Epoch 11/40\n",
            "91/91 [==============================] - 21s 235ms/step - loss: 2.5734\n",
            "Epoch 12/40\n",
            "91/91 [==============================] - 21s 227ms/step - loss: 2.5109\n",
            "Epoch 13/40\n",
            "91/91 [==============================] - 20s 222ms/step - loss: 2.4592\n",
            "Epoch 14/40\n",
            "91/91 [==============================] - 21s 235ms/step - loss: 2.4094\n",
            "Epoch 15/40\n",
            "91/91 [==============================] - 20s 222ms/step - loss: 2.3543\n",
            "Epoch 16/40\n",
            "91/91 [==============================] - 22s 241ms/step - loss: 2.2925\n",
            "Epoch 17/40\n",
            "91/91 [==============================] - 20s 223ms/step - loss: 2.2410\n",
            "Epoch 18/40\n",
            "91/91 [==============================] - 22s 240ms/step - loss: 2.1792\n",
            "Epoch 19/40\n",
            "91/91 [==============================] - 20s 221ms/step - loss: 2.1107\n",
            "Epoch 20/40\n",
            "91/91 [==============================] - 21s 227ms/step - loss: 2.0486\n",
            "Epoch 21/40\n",
            "91/91 [==============================] - 22s 236ms/step - loss: 1.9942\n",
            "Epoch 22/40\n",
            "91/91 [==============================] - 22s 241ms/step - loss: 1.9014\n",
            "Epoch 23/40\n",
            "91/91 [==============================] - 21s 234ms/step - loss: 1.8130\n",
            "Epoch 24/40\n",
            "91/91 [==============================] - 20s 220ms/step - loss: 1.7364\n",
            "Epoch 25/40\n",
            "91/91 [==============================] - 22s 243ms/step - loss: 1.6340\n",
            "Epoch 26/40\n",
            "91/91 [==============================] - 20s 221ms/step - loss: 1.5386\n",
            "Epoch 27/40\n",
            "91/91 [==============================] - 25s 271ms/step - loss: 1.4733\n",
            "Epoch 28/40\n",
            "91/91 [==============================] - 22s 237ms/step - loss: 1.3542\n",
            "Epoch 29/40\n",
            "91/91 [==============================] - 23s 254ms/step - loss: 1.2507\n",
            "Epoch 30/40\n",
            "91/91 [==============================] - 21s 231ms/step - loss: 1.1614\n",
            "Epoch 31/40\n",
            "91/91 [==============================] - 22s 246ms/step - loss: 1.0321\n",
            "Epoch 32/40\n",
            "91/91 [==============================] - 21s 230ms/step - loss: 0.9478\n",
            "Epoch 33/40\n",
            "91/91 [==============================] - 24s 268ms/step - loss: 0.8820\n",
            "Epoch 34/40\n",
            "91/91 [==============================] - 21s 225ms/step - loss: 0.7503\n",
            "Epoch 35/40\n",
            "91/91 [==============================] - 22s 243ms/step - loss: 0.6731\n",
            "Epoch 36/40\n",
            "91/91 [==============================] - 22s 245ms/step - loss: 0.6204\n",
            "Epoch 37/40\n",
            "91/91 [==============================] - 22s 239ms/step - loss: 0.4977\n",
            "Epoch 38/40\n",
            "91/91 [==============================] - 22s 240ms/step - loss: 0.4372\n",
            "Epoch 39/40\n",
            "91/91 [==============================] - 21s 233ms/step - loss: 0.3670\n",
            "Epoch 40/40\n",
            "91/91 [==============================] - 23s 253ms/step - loss: 0.3344\n"
          ]
        },
        {
          "output_type": "execute_result",
          "data": {
            "text/plain": [
              "<keras.src.callbacks.History at 0x7daa1c5dfd60>"
            ]
          },
          "metadata": {},
          "execution_count": 33
        }
      ]
    },
    {
      "cell_type": "code",
      "source": [
        "# Train the model with additional epochs\n",
        "model.fit(X_modified, ys, epochs=40, batch_size=128)"
      ],
      "metadata": {
        "colab": {
          "base_uri": "https://localhost:8080/"
        },
        "id": "crlYmVduvvNE",
        "outputId": "7eca6786-8eeb-407a-8a63-10891ca96172"
      },
      "execution_count": null,
      "outputs": [
        {
          "output_type": "stream",
          "name": "stdout",
          "text": [
            "Epoch 1/40\n",
            "91/91 [==============================] - 31s 343ms/step - loss: 0.2864\n",
            "Epoch 2/40\n",
            "91/91 [==============================] - 24s 264ms/step - loss: 0.2245\n",
            "Epoch 3/40\n",
            "91/91 [==============================] - 28s 310ms/step - loss: 0.1774\n",
            "Epoch 4/40\n",
            "91/91 [==============================] - 23s 257ms/step - loss: 0.1500\n",
            "Epoch 5/40\n",
            "91/91 [==============================] - 22s 242ms/step - loss: 0.1285\n",
            "Epoch 6/40\n",
            "91/91 [==============================] - 23s 252ms/step - loss: 0.1159\n",
            "Epoch 7/40\n",
            "91/91 [==============================] - 23s 256ms/step - loss: 0.1449\n",
            "Epoch 8/40\n",
            "91/91 [==============================] - 24s 261ms/step - loss: 0.1052\n",
            "Epoch 9/40\n",
            "91/91 [==============================] - 21s 228ms/step - loss: 0.0894\n",
            "Epoch 10/40\n",
            "91/91 [==============================] - 23s 255ms/step - loss: 0.0774\n",
            "Epoch 11/40\n",
            "91/91 [==============================] - 21s 230ms/step - loss: 0.0693\n",
            "Epoch 12/40\n",
            "91/91 [==============================] - 23s 252ms/step - loss: 0.1451\n",
            "Epoch 13/40\n",
            "91/91 [==============================] - 20s 222ms/step - loss: 0.1074\n",
            "Epoch 14/40\n",
            "91/91 [==============================] - 27s 298ms/step - loss: 0.0713\n",
            "Epoch 15/40\n",
            "91/91 [==============================] - 20s 221ms/step - loss: 0.0599\n",
            "Epoch 16/40\n",
            "91/91 [==============================] - 22s 240ms/step - loss: 0.0522\n",
            "Epoch 17/40\n",
            "91/91 [==============================] - 20s 225ms/step - loss: 0.0502\n",
            "Epoch 18/40\n",
            "91/91 [==============================] - 24s 261ms/step - loss: 0.0441\n",
            "Epoch 19/40\n",
            "91/91 [==============================] - 23s 257ms/step - loss: 0.0421\n",
            "Epoch 20/40\n",
            "91/91 [==============================] - 22s 243ms/step - loss: 0.0396\n",
            "Epoch 21/40\n",
            "91/91 [==============================] - 22s 240ms/step - loss: 0.0386\n",
            "Epoch 22/40\n",
            "91/91 [==============================] - 22s 246ms/step - loss: 0.0397\n",
            "Epoch 23/40\n",
            "91/91 [==============================] - 20s 224ms/step - loss: 0.0375\n",
            "Epoch 24/40\n",
            "91/91 [==============================] - 23s 251ms/step - loss: 0.0354\n",
            "Epoch 25/40\n",
            "91/91 [==============================] - 25s 274ms/step - loss: 0.0370\n",
            "Epoch 26/40\n",
            "91/91 [==============================] - 24s 265ms/step - loss: 0.0336\n",
            "Epoch 27/40\n",
            "91/91 [==============================] - 24s 267ms/step - loss: 0.0321\n",
            "Epoch 28/40\n",
            "91/91 [==============================] - 23s 250ms/step - loss: 0.0331\n",
            "Epoch 29/40\n",
            "91/91 [==============================] - 26s 280ms/step - loss: 0.3420\n",
            "Epoch 30/40\n",
            "91/91 [==============================] - 22s 242ms/step - loss: 0.5211\n",
            "Epoch 31/40\n",
            "91/91 [==============================] - 23s 255ms/step - loss: 0.2274\n",
            "Epoch 32/40\n",
            "91/91 [==============================] - 20s 221ms/step - loss: 0.0679\n",
            "Epoch 33/40\n",
            "91/91 [==============================] - 22s 241ms/step - loss: 0.0421\n",
            "Epoch 34/40\n",
            "91/91 [==============================] - 20s 222ms/step - loss: 0.0340\n",
            "Epoch 35/40\n",
            "91/91 [==============================] - 24s 259ms/step - loss: 0.0313\n",
            "Epoch 36/40\n",
            "91/91 [==============================] - 22s 239ms/step - loss: 0.0290\n",
            "Epoch 37/40\n",
            "91/91 [==============================] - 23s 257ms/step - loss: 0.0275\n",
            "Epoch 38/40\n",
            "91/91 [==============================] - 20s 219ms/step - loss: 0.0257\n",
            "Epoch 39/40\n",
            "91/91 [==============================] - 22s 238ms/step - loss: 0.0247\n",
            "Epoch 40/40\n",
            "91/91 [==============================] - 21s 233ms/step - loss: 0.0242\n"
          ]
        },
        {
          "output_type": "execute_result",
          "data": {
            "text/plain": [
              "<keras.src.callbacks.History at 0x7da9c2321b70>"
            ]
          },
          "metadata": {},
          "execution_count": 42
        }
      ]
    },
    {
      "cell_type": "code",
      "source": [
        "\n",
        "def generate_text(model, seq_length, char_to_int, int_to_char, num_chars, seed_text, num_chars_to_generate):\n",
        "\n",
        "    generated_text = seed_text\n",
        "\n",
        "    # Generate characters\n",
        "    for _ in range(num_chars_to_generate):\n",
        "        # Preprocess the seed text\n",
        "        if len(seed_text) < seq_length:\n",
        "            x = np.reshape([char_to_int[char] for char in seed_text], (1, len(seed_text), 1))\n",
        "        else:\n",
        "            x = np.reshape([char_to_int[char] for char in seed_text[-seq_length:]], (1, seq_length, 1))\n",
        "        x = x / float(num_chars)\n",
        "\n",
        "        # Predict the next character probabilities\n",
        "        predictions = model.predict(x, verbose=0)\n",
        "\n",
        "        # Convert predictions to character index\n",
        "        predicted_char_index = np.argmax(predictions)\n",
        "\n",
        "        # Convert character index to actual character\n",
        "        predicted_char = int_to_char[predicted_char_index]\n",
        "\n",
        "        # Append the predicted character to the generated text\n",
        "        generated_text += predicted_char\n",
        "\n",
        "        # Update the seed text by removing the first character and adding the predicted character\n",
        "        seed_text = seed_text[1:] + predicted_char\n",
        "\n",
        "    return generated_text"
      ],
      "metadata": {
        "id": "W4ccmyU2lKAI"
      },
      "execution_count": 16,
      "outputs": []
    },
    {
      "cell_type": "code",
      "source": [
        "# generate text\n",
        "seed_text = \"the football is sport which is \"\n",
        "num_chars_to_generate = 300\n",
        "generated_text = generate_text(model, seq_length, char_to_int, int_to_char, num_chars, seed_text, num_chars_to_generate)\n",
        "\n",
        "# Print the generated text\n",
        "print(generated_text)"
      ],
      "metadata": {
        "colab": {
          "base_uri": "https://localhost:8080/"
        },
        "id": "sNEFPd0HoPS2",
        "outputId": "3be375c5-52ca-47ce-837e-8f02ebaa728d"
      },
      "execution_count": null,
      "outputs": [
        {
          "output_type": "stream",
          "name": "stdout",
          "text": [
            "the football is sport which is the mfl canhderen somng gootnnt terccnd pt mivedat thck frrmrwing the conccusoons of gue with ameiiseshens loveddacn there creakice nd kasco aachning e fentiapaenglint she spilts in uhe world with the individual games accounting for many of the most watched television programs in american history an\n"
          ]
        }
      ]
    },
    {
      "cell_type": "code",
      "source": [],
      "metadata": {
        "id": "xJPRtXlcp0eV"
      },
      "execution_count": null,
      "outputs": []
    },
    {
      "cell_type": "markdown",
      "source": [
        "#using simple RNN"
      ],
      "metadata": {
        "id": "PQcJ7pn1Pk4t"
      }
    },
    {
      "cell_type": "code",
      "source": [
        "# Define the model\n",
        "model = Sequential()\n",
        "\n",
        "model.add(SimpleRNN(256, input_shape=(X_modified.shape[1], X_modified.shape[2]), return_sequences=True))\n",
        "model.add(SimpleRNN(128, return_sequences=True))\n",
        "model.add(SimpleRNN(64))\n",
        "\n",
        "model.add(Dense(ys.shape[1], activation='softmax'))\n",
        "\n",
        "# Compile the model\n",
        "opt = Adam(lr=0.001)\n",
        "model.compile(loss='categorical_crossentropy', optimizer=opt)\n",
        "\n",
        "print(model.summary())"
      ],
      "metadata": {
        "colab": {
          "base_uri": "https://localhost:8080/"
        },
        "id": "47evuodXPppN",
        "outputId": "31aca3de-0ead-4219-a1e3-1ac658b42c61"
      },
      "execution_count": 12,
      "outputs": [
        {
          "output_type": "stream",
          "name": "stderr",
          "text": [
            "WARNING:absl:`lr` is deprecated in Keras optimizer, please use `learning_rate` or use the legacy optimizer, e.g.,tf.keras.optimizers.legacy.Adam.\n"
          ]
        },
        {
          "output_type": "stream",
          "name": "stdout",
          "text": [
            "Model: \"sequential_4\"\n",
            "_________________________________________________________________\n",
            " Layer (type)                Output Shape              Param #   \n",
            "=================================================================\n",
            " simple_rnn_10 (SimpleRNN)   (None, 20, 256)           66048     \n",
            "                                                                 \n",
            " simple_rnn_11 (SimpleRNN)   (None, 20, 128)           49280     \n",
            "                                                                 \n",
            " simple_rnn_12 (SimpleRNN)   (None, 64)                12352     \n",
            "                                                                 \n",
            " dense_2 (Dense)             (None, 27)                1755      \n",
            "                                                                 \n",
            "=================================================================\n",
            "Total params: 129435 (505.61 KB)\n",
            "Trainable params: 129435 (505.61 KB)\n",
            "Non-trainable params: 0 (0.00 Byte)\n",
            "_________________________________________________________________\n",
            "None\n"
          ]
        }
      ]
    },
    {
      "cell_type": "code",
      "source": [
        "model.fit(X_modified, ys, epochs=80, batch_size=128)\n"
      ],
      "metadata": {
        "colab": {
          "base_uri": "https://localhost:8080/"
        },
        "id": "zAMVXw2CP0LP",
        "outputId": "f4308d7e-e1ea-453b-d11b-f49b4d418c0e"
      },
      "execution_count": 14,
      "outputs": [
        {
          "output_type": "stream",
          "name": "stdout",
          "text": [
            "Epoch 1/80\n",
            "91/91 [==============================] - 8s 84ms/step - loss: 2.8599\n",
            "Epoch 2/80\n",
            "91/91 [==============================] - 7s 76ms/step - loss: 2.8491\n",
            "Epoch 3/80\n",
            "91/91 [==============================] - 7s 76ms/step - loss: 2.8157\n",
            "Epoch 4/80\n",
            "91/91 [==============================] - 7s 78ms/step - loss: 2.7640\n",
            "Epoch 5/80\n",
            "91/91 [==============================] - 7s 75ms/step - loss: 2.7198\n",
            "Epoch 6/80\n",
            "91/91 [==============================] - 7s 79ms/step - loss: 2.6699\n",
            "Epoch 7/80\n",
            "91/91 [==============================] - 7s 73ms/step - loss: 2.6066\n",
            "Epoch 8/80\n",
            "91/91 [==============================] - 7s 80ms/step - loss: 2.5493\n",
            "Epoch 9/80\n",
            "91/91 [==============================] - 6s 71ms/step - loss: 2.4958\n",
            "Epoch 10/80\n",
            "91/91 [==============================] - 7s 81ms/step - loss: 2.4494\n",
            "Epoch 11/80\n",
            "91/91 [==============================] - 7s 73ms/step - loss: 2.4053\n",
            "Epoch 12/80\n",
            "91/91 [==============================] - 7s 81ms/step - loss: 2.3710\n",
            "Epoch 13/80\n",
            "91/91 [==============================] - 7s 79ms/step - loss: 2.3255\n",
            "Epoch 14/80\n",
            "91/91 [==============================] - 7s 78ms/step - loss: 2.2901\n",
            "Epoch 15/80\n",
            "91/91 [==============================] - 7s 76ms/step - loss: 2.2484\n",
            "Epoch 16/80\n",
            "91/91 [==============================] - 7s 80ms/step - loss: 2.2139\n",
            "Epoch 17/80\n",
            "91/91 [==============================] - 7s 76ms/step - loss: 2.1770\n",
            "Epoch 18/80\n",
            "91/91 [==============================] - 7s 80ms/step - loss: 2.1488\n",
            "Epoch 19/80\n",
            "91/91 [==============================] - 7s 74ms/step - loss: 2.1141\n",
            "Epoch 20/80\n",
            "91/91 [==============================] - 7s 80ms/step - loss: 2.0842\n",
            "Epoch 21/80\n",
            "91/91 [==============================] - 7s 75ms/step - loss: 2.0553\n",
            "Epoch 22/80\n",
            "91/91 [==============================] - 7s 79ms/step - loss: 2.0232\n",
            "Epoch 23/80\n",
            "91/91 [==============================] - 7s 75ms/step - loss: 1.9940\n",
            "Epoch 24/80\n",
            "91/91 [==============================] - 7s 78ms/step - loss: 1.9556\n",
            "Epoch 25/80\n",
            "91/91 [==============================] - 7s 76ms/step - loss: 1.9237\n",
            "Epoch 26/80\n",
            "91/91 [==============================] - 7s 77ms/step - loss: 1.8994\n",
            "Epoch 27/80\n",
            "91/91 [==============================] - 7s 78ms/step - loss: 1.8696\n",
            "Epoch 28/80\n",
            "91/91 [==============================] - 7s 80ms/step - loss: 1.8414\n",
            "Epoch 29/80\n",
            "91/91 [==============================] - 7s 80ms/step - loss: 1.8168\n",
            "Epoch 30/80\n",
            "91/91 [==============================] - 7s 75ms/step - loss: 1.7843\n",
            "Epoch 31/80\n",
            "91/91 [==============================] - 7s 81ms/step - loss: 1.7590\n",
            "Epoch 32/80\n",
            "91/91 [==============================] - 7s 74ms/step - loss: 1.7289\n",
            "Epoch 33/80\n",
            "91/91 [==============================] - 7s 79ms/step - loss: 1.7114\n",
            "Epoch 34/80\n",
            "91/91 [==============================] - 6s 69ms/step - loss: 1.6809\n",
            "Epoch 35/80\n",
            "91/91 [==============================] - 8s 84ms/step - loss: 1.6573\n",
            "Epoch 36/80\n",
            "91/91 [==============================] - 6s 69ms/step - loss: 1.6212\n",
            "Epoch 37/80\n",
            "91/91 [==============================] - 8s 84ms/step - loss: 1.6086\n",
            "Epoch 38/80\n",
            "91/91 [==============================] - 7s 71ms/step - loss: 1.5896\n",
            "Epoch 39/80\n",
            "91/91 [==============================] - 7s 82ms/step - loss: 1.5469\n",
            "Epoch 40/80\n",
            "91/91 [==============================] - 6s 69ms/step - loss: 1.5282\n",
            "Epoch 41/80\n",
            "91/91 [==============================] - 8s 84ms/step - loss: 1.5165\n",
            "Epoch 42/80\n",
            "91/91 [==============================] - 6s 67ms/step - loss: 1.4863\n",
            "Epoch 43/80\n",
            "91/91 [==============================] - 8s 84ms/step - loss: 1.4585\n",
            "Epoch 44/80\n",
            "91/91 [==============================] - 6s 69ms/step - loss: 1.4204\n",
            "Epoch 45/80\n",
            "91/91 [==============================] - 8s 84ms/step - loss: 1.4072\n",
            "Epoch 46/80\n",
            "91/91 [==============================] - 6s 69ms/step - loss: 1.3984\n",
            "Epoch 47/80\n",
            "91/91 [==============================] - 8s 83ms/step - loss: 1.3669\n",
            "Epoch 48/80\n",
            "91/91 [==============================] - 6s 71ms/step - loss: 1.3446\n",
            "Epoch 49/80\n",
            "91/91 [==============================] - 7s 80ms/step - loss: 1.3182\n",
            "Epoch 50/80\n",
            "91/91 [==============================] - 7s 73ms/step - loss: 1.2932\n",
            "Epoch 51/80\n",
            "91/91 [==============================] - 7s 78ms/step - loss: 1.2696\n",
            "Epoch 52/80\n",
            "91/91 [==============================] - 7s 76ms/step - loss: 1.2470\n",
            "Epoch 53/80\n",
            "91/91 [==============================] - 7s 77ms/step - loss: 1.2345\n",
            "Epoch 54/80\n",
            "91/91 [==============================] - 7s 78ms/step - loss: 1.2161\n",
            "Epoch 55/80\n",
            "91/91 [==============================] - 7s 76ms/step - loss: 1.1926\n",
            "Epoch 56/80\n",
            "91/91 [==============================] - 7s 79ms/step - loss: 1.1782\n",
            "Epoch 57/80\n",
            "91/91 [==============================] - 7s 75ms/step - loss: 1.1524\n",
            "Epoch 58/80\n",
            "91/91 [==============================] - 7s 77ms/step - loss: 1.1315\n",
            "Epoch 59/80\n",
            "91/91 [==============================] - 7s 77ms/step - loss: 1.0981\n",
            "Epoch 60/80\n",
            "91/91 [==============================] - 7s 75ms/step - loss: 1.0918\n",
            "Epoch 61/80\n",
            "91/91 [==============================] - 7s 78ms/step - loss: 1.0777\n",
            "Epoch 62/80\n",
            "91/91 [==============================] - 7s 77ms/step - loss: 1.0666\n",
            "Epoch 63/80\n",
            "91/91 [==============================] - 7s 76ms/step - loss: 1.0489\n",
            "Epoch 64/80\n",
            "91/91 [==============================] - 7s 77ms/step - loss: 1.0200\n",
            "Epoch 65/80\n",
            "91/91 [==============================] - 7s 77ms/step - loss: 0.9970\n",
            "Epoch 66/80\n",
            "91/91 [==============================] - 7s 78ms/step - loss: 0.9919\n",
            "Epoch 67/80\n",
            "91/91 [==============================] - 7s 76ms/step - loss: 0.9681\n",
            "Epoch 68/80\n",
            "91/91 [==============================] - 7s 78ms/step - loss: 0.9498\n",
            "Epoch 69/80\n",
            "91/91 [==============================] - 7s 74ms/step - loss: 0.9365\n",
            "Epoch 70/80\n",
            "91/91 [==============================] - 7s 77ms/step - loss: 0.9181\n",
            "Epoch 71/80\n",
            "91/91 [==============================] - 7s 77ms/step - loss: 0.9043\n",
            "Epoch 72/80\n",
            "91/91 [==============================] - 7s 78ms/step - loss: 0.8950\n",
            "Epoch 73/80\n",
            "91/91 [==============================] - 7s 75ms/step - loss: 0.8583\n",
            "Epoch 74/80\n",
            "91/91 [==============================] - 7s 80ms/step - loss: 0.8591\n",
            "Epoch 75/80\n",
            "91/91 [==============================] - 7s 74ms/step - loss: 0.8488\n",
            "Epoch 76/80\n",
            "91/91 [==============================] - 7s 80ms/step - loss: 0.8204\n",
            "Epoch 77/80\n",
            "91/91 [==============================] - 7s 73ms/step - loss: 0.8079\n",
            "Epoch 78/80\n",
            "91/91 [==============================] - 7s 79ms/step - loss: 0.7863\n",
            "Epoch 79/80\n",
            "91/91 [==============================] - 7s 75ms/step - loss: 0.7825\n",
            "Epoch 80/80\n",
            "91/91 [==============================] - 7s 80ms/step - loss: 0.7655\n"
          ]
        },
        {
          "output_type": "execute_result",
          "data": {
            "text/plain": [
              "<keras.src.callbacks.History at 0x79145a8d5690>"
            ]
          },
          "metadata": {},
          "execution_count": 14
        }
      ]
    },
    {
      "cell_type": "code",
      "source": [
        "model.fit(X_modified, ys, epochs=40, batch_size=128)\n"
      ],
      "metadata": {
        "colab": {
          "base_uri": "https://localhost:8080/"
        },
        "id": "s0-R8pNiQPub",
        "outputId": "2eaafe04-ca4f-4128-d5d8-1cd1811e9701"
      },
      "execution_count": 18,
      "outputs": [
        {
          "output_type": "stream",
          "name": "stdout",
          "text": [
            "Epoch 1/40\n",
            "91/91 [==============================] - 7s 81ms/step - loss: 0.3918\n",
            "Epoch 2/40\n",
            "91/91 [==============================] - 7s 72ms/step - loss: 0.3793\n",
            "Epoch 3/40\n",
            "91/91 [==============================] - 7s 81ms/step - loss: 0.3546\n",
            "Epoch 4/40\n",
            "91/91 [==============================] - 6s 71ms/step - loss: 0.3579\n",
            "Epoch 5/40\n",
            "91/91 [==============================] - 7s 79ms/step - loss: 0.3468\n",
            "Epoch 6/40\n",
            "91/91 [==============================] - 7s 73ms/step - loss: 0.3694\n",
            "Epoch 7/40\n",
            "91/91 [==============================] - 7s 79ms/step - loss: 0.3437\n",
            "Epoch 8/40\n",
            "91/91 [==============================] - 7s 75ms/step - loss: 0.3515\n",
            "Epoch 9/40\n",
            "91/91 [==============================] - 7s 80ms/step - loss: 0.3624\n",
            "Epoch 10/40\n",
            "91/91 [==============================] - 7s 74ms/step - loss: 0.3154\n",
            "Epoch 11/40\n",
            "91/91 [==============================] - 7s 80ms/step - loss: 0.2974\n",
            "Epoch 12/40\n",
            "91/91 [==============================] - 7s 74ms/step - loss: 0.3137\n",
            "Epoch 13/40\n",
            "91/91 [==============================] - 7s 81ms/step - loss: 0.3171\n",
            "Epoch 14/40\n",
            "91/91 [==============================] - 7s 73ms/step - loss: 0.3331\n",
            "Epoch 15/40\n",
            "91/91 [==============================] - 7s 77ms/step - loss: 0.3227\n",
            "Epoch 16/40\n",
            "91/91 [==============================] - 7s 75ms/step - loss: 0.3799\n",
            "Epoch 17/40\n",
            "91/91 [==============================] - 7s 79ms/step - loss: 0.3495\n",
            "Epoch 18/40\n",
            "91/91 [==============================] - 7s 75ms/step - loss: 0.3163\n",
            "Epoch 19/40\n",
            "91/91 [==============================] - 7s 79ms/step - loss: 0.3110\n",
            "Epoch 20/40\n",
            "91/91 [==============================] - 7s 74ms/step - loss: 0.2541\n",
            "Epoch 21/40\n",
            "91/91 [==============================] - 7s 79ms/step - loss: 0.2529\n",
            "Epoch 22/40\n",
            "91/91 [==============================] - 7s 74ms/step - loss: 0.2703\n",
            "Epoch 23/40\n",
            "91/91 [==============================] - 7s 81ms/step - loss: 0.2710\n",
            "Epoch 24/40\n",
            "91/91 [==============================] - 7s 73ms/step - loss: 0.3650\n",
            "Epoch 25/40\n",
            "91/91 [==============================] - 7s 81ms/step - loss: 0.3125\n",
            "Epoch 26/40\n",
            "91/91 [==============================] - 7s 72ms/step - loss: 0.3262\n",
            "Epoch 27/40\n",
            "91/91 [==============================] - 8s 82ms/step - loss: 0.2780\n",
            "Epoch 28/40\n",
            "91/91 [==============================] - 6s 69ms/step - loss: 0.2564\n",
            "Epoch 29/40\n",
            "91/91 [==============================] - 8s 84ms/step - loss: 0.2510\n",
            "Epoch 30/40\n",
            "91/91 [==============================] - 6s 69ms/step - loss: 0.2615\n",
            "Epoch 31/40\n",
            "91/91 [==============================] - 8s 85ms/step - loss: 0.2875\n",
            "Epoch 32/40\n",
            "91/91 [==============================] - 6s 68ms/step - loss: 0.2705\n",
            "Epoch 33/40\n",
            "91/91 [==============================] - 8s 83ms/step - loss: 0.2759\n",
            "Epoch 34/40\n",
            "91/91 [==============================] - 6s 70ms/step - loss: 0.2282\n",
            "Epoch 35/40\n",
            "91/91 [==============================] - 8s 86ms/step - loss: 0.2114\n",
            "Epoch 36/40\n",
            "91/91 [==============================] - 6s 70ms/step - loss: 0.2401\n",
            "Epoch 37/40\n",
            "91/91 [==============================] - 8s 83ms/step - loss: 0.2889\n",
            "Epoch 38/40\n",
            "91/91 [==============================] - 7s 73ms/step - loss: 0.3109\n",
            "Epoch 39/40\n",
            "91/91 [==============================] - 8s 83ms/step - loss: 0.3118\n",
            "Epoch 40/40\n",
            "91/91 [==============================] - 7s 72ms/step - loss: 0.2978\n"
          ]
        },
        {
          "output_type": "execute_result",
          "data": {
            "text/plain": [
              "<keras.src.callbacks.History at 0x791457966b00>"
            ]
          },
          "metadata": {},
          "execution_count": 18
        }
      ]
    },
    {
      "cell_type": "code",
      "source": [
        "# generate text\n",
        "seed_text = \"the football is sport which is \"\n",
        "num_chars_to_generate = 300\n",
        "generated_text = generate_text(model, seq_length, char_to_int, int_to_char, num_chars, seed_text, num_chars_to_generate)\n",
        "\n",
        "# Print the generated text\n",
        "print(generated_text)"
      ],
      "metadata": {
        "colab": {
          "base_uri": "https://localhost:8080/"
        },
        "id": "K5O-PmnRStWf",
        "outputId": "918be870-ba62-49c9-9d15-5657fa70c6fe"
      },
      "execution_count": 20,
      "outputs": [
        {
          "output_type": "stream",
          "name": "stdout",
          "text": [
            "the football is sport which is eolleger i nesel a moges of puhes and comticered coelest ofaauedr frous lacn gne amnowedt mn the eirst lary coaruns erouna poeters of sugogat mnly the orpoariyhds ans  nllndil the ball a ciriouel iortball astociatien watde to ale koowe t thar fial gootball league nfl has the highest average attendan\n"
          ]
        }
      ]
    },
    {
      "cell_type": "code",
      "source": [],
      "metadata": {
        "id": "FuzMCQ78v0sq"
      },
      "execution_count": null,
      "outputs": []
    },
    {
      "cell_type": "code",
      "source": [],
      "metadata": {
        "id": "SXoY8FQrv0lz"
      },
      "execution_count": null,
      "outputs": []
    },
    {
      "cell_type": "code",
      "source": [],
      "metadata": {
        "id": "MvkM_MnVv0ep"
      },
      "execution_count": null,
      "outputs": []
    },
    {
      "cell_type": "code",
      "source": [],
      "metadata": {
        "id": "b4AdL0poVbyH"
      },
      "execution_count": null,
      "outputs": []
    }
  ]
}